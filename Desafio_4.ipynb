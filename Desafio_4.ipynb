{
 "cells": [
  {
   "cell_type": "markdown",
   "id": "b5699dff",
   "metadata": {},
   "source": [
    "<center><img src=\"images/Logo_I2A2.webp\", width=250></center>  "
   ]
  },
  {
   "cell_type": "markdown",
   "id": "46f682a7",
   "metadata": {},
   "source": [
    "# Desafio 4"
   ]
  },
  {
   "cell_type": "markdown",
   "id": "86579c58",
   "metadata": {},
   "source": [
    "### Estamos em 2012!  \n",
    "\n",
    "Você deve construir um **modelo preditivo de previsão da demanda de passageiros** de uma linha de Metrô, visto que, desde 2005, a demanda vem crescendo constantemente e a alta direção da empresa necessita de subsidios para a tomada de decisão do momento de investimento de forma a aumentar a capacidade operacional da linha que hoje é de cerca de 72 mil passageiros/hora sentido."
   ]
  },
  {
   "cell_type": "markdown",
   "id": "5878707d",
   "metadata": {},
   "source": [
    "<center><img src=\"images/DemandaMetro.png\", width=900></center>  "
   ]
  },
  {
   "cell_type": "markdown",
   "id": "7ecb7e51",
   "metadata": {},
   "source": [
    "O modelo deve possuir como variáveis preditoras indicadores econômicos que possuam projeções que possam ser encontradas facilmente na mídia especializada.     \n",
    "O arquivo [DemandaMetro.xlsx](https://github.com/vsvasconcelos/i2a2/blob/main/DemandaMetro.xlsx) possui as totalizações mensais de entrada de passageiros, bem como as respectivas médias em dias úteis (DU)."
   ]
  },
  {
   "cell_type": "markdown",
   "id": "f192e6e4",
   "metadata": {},
   "source": [
    "### Entrega: 28/07/2022 (Quinta)"
   ]
  },
  {
   "cell_type": "code",
   "execution_count": 1,
   "id": "985ab318",
   "metadata": {},
   "outputs": [],
   "source": [
    "import pandas as pd\n",
    "dados = pd.read_excel('DemandaMetro.xlsx')  "
   ]
  },
  {
   "cell_type": "code",
   "execution_count": 2,
   "id": "5f2d180b",
   "metadata": {},
   "outputs": [
    {
     "data": {
      "text/html": [
       "<div>\n",
       "<style scoped>\n",
       "    .dataframe tbody tr th:only-of-type {\n",
       "        vertical-align: middle;\n",
       "    }\n",
       "\n",
       "    .dataframe tbody tr th {\n",
       "        vertical-align: top;\n",
       "    }\n",
       "\n",
       "    .dataframe thead th {\n",
       "        text-align: right;\n",
       "    }\n",
       "</style>\n",
       "<table border=\"1\" class=\"dataframe\">\n",
       "  <thead>\n",
       "    <tr style=\"text-align: right;\">\n",
       "      <th></th>\n",
       "      <th>DEMANDA HISTÓRICA DO METRO</th>\n",
       "      <th>Unnamed: 1</th>\n",
       "      <th>Unnamed: 2</th>\n",
       "    </tr>\n",
       "  </thead>\n",
       "  <tbody>\n",
       "    <tr>\n",
       "      <th>0</th>\n",
       "      <td>Linha xx</td>\n",
       "      <td>NaN</td>\n",
       "      <td>NaN</td>\n",
       "    </tr>\n",
       "    <tr>\n",
       "      <th>1</th>\n",
       "      <td>Mês/Ano</td>\n",
       "      <td>Entradas</td>\n",
       "      <td>NaN</td>\n",
       "    </tr>\n",
       "    <tr>\n",
       "      <th>2</th>\n",
       "      <td>NaN</td>\n",
       "      <td>TOTAL</td>\n",
       "      <td>MÉDIA DU</td>\n",
       "    </tr>\n",
       "    <tr>\n",
       "      <th>3</th>\n",
       "      <td>1989-01-01 00:00:00</td>\n",
       "      <td>17582640</td>\n",
       "      <td>685614</td>\n",
       "    </tr>\n",
       "    <tr>\n",
       "      <th>4</th>\n",
       "      <td>1989-02-01 00:00:00</td>\n",
       "      <td>16054636</td>\n",
       "      <td>724491</td>\n",
       "    </tr>\n",
       "    <tr>\n",
       "      <th>5</th>\n",
       "      <td>1989-03-01 00:00:00</td>\n",
       "      <td>19435854</td>\n",
       "      <td>770336</td>\n",
       "    </tr>\n",
       "    <tr>\n",
       "      <th>6</th>\n",
       "      <td>1989-04-01 00:00:00</td>\n",
       "      <td>19288983</td>\n",
       "      <td>786977</td>\n",
       "    </tr>\n",
       "    <tr>\n",
       "      <th>7</th>\n",
       "      <td>1989-05-01 00:00:00</td>\n",
       "      <td>20399772</td>\n",
       "      <td>800986</td>\n",
       "    </tr>\n",
       "    <tr>\n",
       "      <th>8</th>\n",
       "      <td>1989-06-01 00:00:00</td>\n",
       "      <td>20543714</td>\n",
       "      <td>785930</td>\n",
       "    </tr>\n",
       "    <tr>\n",
       "      <th>9</th>\n",
       "      <td>1989-07-01 00:00:00</td>\n",
       "      <td>19491708</td>\n",
       "      <td>747304</td>\n",
       "    </tr>\n",
       "    <tr>\n",
       "      <th>10</th>\n",
       "      <td>1989-08-01 00:00:00</td>\n",
       "      <td>21369032</td>\n",
       "      <td>788212</td>\n",
       "    </tr>\n",
       "    <tr>\n",
       "      <th>11</th>\n",
       "      <td>1989-09-01 00:00:00</td>\n",
       "      <td>19771308</td>\n",
       "      <td>799492</td>\n",
       "    </tr>\n",
       "    <tr>\n",
       "      <th>12</th>\n",
       "      <td>1989-10-01 00:00:00</td>\n",
       "      <td>20823461</td>\n",
       "      <td>806657</td>\n",
       "    </tr>\n",
       "    <tr>\n",
       "      <th>13</th>\n",
       "      <td>1989-11-01 00:00:00</td>\n",
       "      <td>19918533</td>\n",
       "      <td>809471</td>\n",
       "    </tr>\n",
       "    <tr>\n",
       "      <th>14</th>\n",
       "      <td>1989-12-01 00:00:00</td>\n",
       "      <td>20586638</td>\n",
       "      <td>799565</td>\n",
       "    </tr>\n",
       "    <tr>\n",
       "      <th>15</th>\n",
       "      <td>1989</td>\n",
       "      <td>235266279</td>\n",
       "      <td>775419.583333</td>\n",
       "    </tr>\n",
       "    <tr>\n",
       "      <th>16</th>\n",
       "      <td>1990-01-01 00:00:00</td>\n",
       "      <td>19377253</td>\n",
       "      <td>755748</td>\n",
       "    </tr>\n",
       "    <tr>\n",
       "      <th>17</th>\n",
       "      <td>1990-02-01 00:00:00</td>\n",
       "      <td>17246090</td>\n",
       "      <td>770900</td>\n",
       "    </tr>\n",
       "    <tr>\n",
       "      <th>18</th>\n",
       "      <td>1990-03-01 00:00:00</td>\n",
       "      <td>20356364</td>\n",
       "      <td>766543</td>\n",
       "    </tr>\n",
       "    <tr>\n",
       "      <th>19</th>\n",
       "      <td>1990-04-01 00:00:00</td>\n",
       "      <td>18358689</td>\n",
       "      <td>765524</td>\n",
       "    </tr>\n",
       "  </tbody>\n",
       "</table>\n",
       "</div>"
      ],
      "text/plain": [
       "   DEMANDA HISTÓRICA DO METRO Unnamed: 1     Unnamed: 2\n",
       "0                    Linha xx        NaN            NaN\n",
       "1                     Mês/Ano   Entradas            NaN\n",
       "2                         NaN      TOTAL       MÉDIA DU\n",
       "3         1989-01-01 00:00:00   17582640         685614\n",
       "4         1989-02-01 00:00:00   16054636         724491\n",
       "5         1989-03-01 00:00:00   19435854         770336\n",
       "6         1989-04-01 00:00:00   19288983         786977\n",
       "7         1989-05-01 00:00:00   20399772         800986\n",
       "8         1989-06-01 00:00:00   20543714         785930\n",
       "9         1989-07-01 00:00:00   19491708         747304\n",
       "10        1989-08-01 00:00:00   21369032         788212\n",
       "11        1989-09-01 00:00:00   19771308         799492\n",
       "12        1989-10-01 00:00:00   20823461         806657\n",
       "13        1989-11-01 00:00:00   19918533         809471\n",
       "14        1989-12-01 00:00:00   20586638         799565\n",
       "15                       1989  235266279  775419.583333\n",
       "16        1990-01-01 00:00:00   19377253         755748\n",
       "17        1990-02-01 00:00:00   17246090         770900\n",
       "18        1990-03-01 00:00:00   20356364         766543\n",
       "19        1990-04-01 00:00:00   18358689         765524"
      ]
     },
     "execution_count": 2,
     "metadata": {},
     "output_type": "execute_result"
    }
   ],
   "source": [
    "dados.head(20)"
   ]
  },
  {
   "cell_type": "markdown",
   "id": "f796f5f0",
   "metadata": {},
   "source": [
    "Após a proposição do modelo, realize a previsão de demanda de passageiros até **2022**."
   ]
  },
  {
   "cell_type": "markdown",
   "id": "0646a77b",
   "metadata": {},
   "source": [
    "### Insights dos Colegas"
   ]
  },
  {
   "cell_type": "markdown",
   "id": "88375e13",
   "metadata": {},
   "source": [
    "Salário Mínimo <br>\n",
    "Número de Veículos no país <br>\n",
    "Valor da passagem do metro <br>\n",
    "Dias da semana <br>\n",
    "Feriados <br>\n",
    "IGP-M <br>\n",
    "PIB https://repositorio.seade.gov.br/dataset/?groups=seade-pib <br>\n",
    "Valor da Gasolina https://www.tabelasdefrete.com.br/planilha/historico-da-variacao-de-precos/25 <br> \n",
    "Crescimento populacional <br>\n"
   ]
  },
  {
   "cell_type": "markdown",
   "id": "beedcf96",
   "metadata": {},
   "source": [
    "Fuzzy Time Series\n",
    "https://www.researchgate.net/publication/356898077_Prediction_of_passenger_train_using_fuzzy_time_series_and_percentage_change_methods"
   ]
  },
  {
   "cell_type": "markdown",
   "id": "f4234a56",
   "metadata": {},
   "source": [
    "### Dicas do Celso / Vagner"
   ]
  },
  {
   "cell_type": "markdown",
   "id": "e60e70c2",
   "metadata": {},
   "source": [
    "Prophet é uma biblioteca para análise e previsão de séries temporais univariadas baseada em métodos estatísticos.\n",
    "Contudo, ela tem vários dispositivos para melhorar a análise, inclusive, podendo ter o calendário customizado para suportar feriados e datas comemorativas."
   ]
  },
  {
   "cell_type": "markdown",
   "id": "848bdd71",
   "metadata": {},
   "source": [
    "https://facebook.github.io/prophet/"
   ]
  },
  {
   "cell_type": "markdown",
   "id": "eac2c4bf",
   "metadata": {},
   "source": [
    "Neural Prophet (https://neuralprophet.com/html/index.html)"
   ]
  },
  {
   "cell_type": "markdown",
   "id": "2b5f6888",
   "metadata": {},
   "source": [
    "DeepAR (https://docs.aws.amazon.com/sagemaker/latest/dg/deepar.html"
   ]
  },
  {
   "cell_type": "markdown",
   "id": "25027254",
   "metadata": {},
   "source": [
    "LSTM"
   ]
  },
  {
   "cell_type": "markdown",
   "id": "96fc63ea",
   "metadata": {},
   "source": [
    "XGBoost"
   ]
  },
  {
   "cell_type": "markdown",
   "id": "a2500520",
   "metadata": {},
   "source": [
    "https://pt.wikipedia.org/wiki/Ci%C3%AAncia_de_dados"
   ]
  },
  {
   "cell_type": "markdown",
   "id": "d0333530",
   "metadata": {},
   "source": [
    "https://pt.wikipedia.org/wiki/M%C3%A9todo_cient%C3%ADfico"
   ]
  },
  {
   "cell_type": "markdown",
   "id": "6bb25e91",
   "metadata": {},
   "source": [
    "Apenas lembrando que quanto mais nos distanciamos no futuro, maior é a chance de erro.\n",
    "Outra questão importante, para quem estiver usando modelos baseados em autoregressores, o lag é um fator fundamental."
   ]
  },
  {
   "cell_type": "code",
   "execution_count": 4,
   "id": "bae281b4",
   "metadata": {
    "scrolled": false
   },
   "outputs": [
    {
     "name": "stdout",
     "output_type": "stream",
     "text": [
      "On branch desafio4\n",
      "Changes to be committed:\n",
      "  (use \"git restore --staged <file>...\" to unstage)\n",
      "\tdeleted:    Algebra_Linear.ipynb\n",
      "\tdeleted:    DW-OSM-RMSP-rev4/AmostraBase.py\n",
      "\tdeleted:    DW-OSM-RMSP-rev4/AuditaCEP-rev2.py\n",
      "\tdeleted:    DW-OSM-RMSP-rev4/AuditaCEP.py\n",
      "\tdeleted:    DW-OSM-RMSP-rev4/AuditaTags.py\n",
      "\tdeleted:    DW-OSM-RMSP-rev4/AuditaTiposDeVias.py\n",
      "\tdeleted:    DW-OSM-RMSP-rev4/AuditaUsuarios.py\n",
      "\tdeleted:    DW-OSM-RMSP-rev4/ContagemDosTags.py\n",
      "\tdeleted:    DW-OSM-RMSP-rev4/DW-OSM-RMSP-rev2.html\n",
      "\tdeleted:    DW-OSM-RMSP-rev4/DW-OSM-RMSP-rev2.ipynb\n",
      "\tdeleted:    DW-OSM-RMSP-rev4/TiposDeVias.py\n",
      "\tdeleted:    DW-OSM-RMSP-rev4/Xml2Json-rev2.py\n",
      "\tdeleted:    Exercicio_extra.ipynb\n",
      "\tdeleted:    Numpy_Algebra_Linear.ipynb\n",
      "\tdeleted:    PCA_na_mao_e_no_Python.ipynb\n",
      "\tdeleted:    README.MD\n",
      "\tdeleted:    SWEETVIZ_REPORT.html\n",
      "\tdeleted:    aula_m4a1.ipynb\n",
      "\tdeleted:    aula_m4a2.ipynb\n",
      "\tdeleted:    exercicio_extra(repondido).ipynb\n",
      "\tdeleted:    images/17equacoes.png\n",
      "\tdeleted:    images/Chihuahua.png\n",
      "\tdeleted:    images/Comp_ML_Tecnicas.png\n",
      "\tdeleted:    images/DataScienceEightSteps_Full.png\n",
      "\tdeleted:    images/Estat_IA.jpg\n",
      "\tdeleted:    images/IA_vaiTirarEmpregos.png\n",
      "\tdeleted:    images/Logo_I2A2.png\n",
      "\tdeleted:    images/Logo_I2A2_fundo_preto.png\n",
      "\tdeleted:    images/ML_modelos.jpg\n",
      "\tdeleted:    images/ML_modelos.png\n",
      "\tdeleted:    images/ML_modelos2.png\n",
      "\tdeleted:    images/ML_process_.png\n",
      "\tdeleted:    images/ML_tiposAprendizagem.jpg\n",
      "\tdeleted:    images/Normal_Distribution_PDF.png\n",
      "\tdeleted:    images/Normal_Distribution_PDF.svg\n",
      "\tdeleted:    images/OrangeDM.png\n",
      "\tdeleted:    images/PCA.png\n",
      "\tdeleted:    images/ResponsibleIA.PNG\n",
      "\tdeleted:    images/abordML.png\n",
      "\tdeleted:    images/abordML_fluxo.png\n",
      "\tdeleted:    images/abordML_trein.png\n",
      "\tdeleted:    images/abordtradicional.png\n",
      "\tdeleted:    images/abordtradicional_fluxo.png\n",
      "\tdeleted:    images/aiexpert.png\n",
      "\tdeleted:    images/aprennaosuper.png\n",
      "\tdeleted:    images/aprensuper.png\n",
      "\tdeleted:    images/arvore-decisao.jpg\n",
      "\tdeleted:    images/assimetria.jpg\n",
      "\tdeleted:    images/assimetria2.png\n",
      "\tdeleted:    images/backpropagation.gif\n",
      "\tdeleted:    images/bird.jpg\n",
      "\tdeleted:    images/bokeh.png\n",
      "\tdeleted:    images/boxplot.png\n",
      "\tdeleted:    images/canvas.png\n",
      "\tdeleted:    images/classe.png\n",
      "\tdeleted:    images/classe2.png\n",
      "\tdeleted:    images/comparacao_otimizadores.gif\n",
      "\tdeleted:    images/convolution.gif\n",
      "\tdeleted:    images/correlacao.png\n",
      "\tdeleted:    images/crisp-ml-process.jpg\n",
      "\tdeleted:    images/crisp_ds.png\n",
      "\tdeleted:    images/curtose.png\n",
      "\tdeleted:    images/cvml.png\n",
      "\tdeleted:    images/dados-tabulares.png\n",
      "\tdeleted:    images/datalake.jpg\n",
      "\tdeleted:    images/deepdive.png\n",
      "\tdeleted:    images/deeplearning_convolutions.gif\n",
      "\tdeleted:    images/desvio_padrao.png\n",
      "\tdeleted:    images/dimencionalidade.png\n",
      "\tdeleted:    images/dropout.gif\n",
      "\tdeleted:    images/erro-reg.png\n",
      "\tdeleted:    images/estatisticaunivariada.jpg\n",
      "\tdeleted:    images/excel-meme-dr-evil.webp\n",
      "\tdeleted:    images/exemplo-sistema-linear.png\n",
      "\tdeleted:    images/fe.png\n",
      "\tdeleted:    images/feynman.png\n",
      "\tdeleted:    images/florestas-aleatorias.jpg\n",
      "\tdeleted:    images/formasensinar.png\n",
      "\tdeleted:    images/grad-descent-methods.png\n",
      "\tdeleted:    images/gradient-descent-1.gif\n",
      "\tdeleted:    images/gradient-descent-2.gif\n",
      "\tdeleted:    images/gradient-descent-3.gif\n",
      "\tdeleted:    images/gradient-descent.gif\n",
      "\tdeleted:    images/gradient-descent.png\n",
      "\tdeleted:    images/images_as_matrix.png\n",
      "\tdeleted:    images/iris-species.png\n",
      "\tdeleted:    images/jupyternotebook.png\n",
      "\tdeleted:    images/kmeans_1.png\n",
      "\tdeleted:    images/kmeans_2.png\n",
      "\tdeleted:    images/kmeans_3.png\n",
      "\tdeleted:    images/kmeans_4.png\n",
      "\tdeleted:    images/kmeans_5.png\n",
      "\tdeleted:    images/knn.png\n",
      "\tdeleted:    images/landscape_sddefault.png\n",
      "\tdeleted:    images/leaky-relu.png\n",
      "\tdeleted:    images/local-minima.png\n",
      "\tdeleted:    images/logo_i2a2.png\n",
      "\tdeleted:    images/logo_i2a2.svg\n",
      "\tdeleted:    images/logo_i2a2_abdi.svg\n",
      "\tdeleted:    images/markmap.html\n",
      "\tdeleted:    images/matplotlib-anatomy.png\n",
      "\tdeleted:    images/matplotlib-fig-anatomy.png\n",
      "\tdeleted:    images/media_mediana_moda.png\n",
      "\tdeleted:    images/media_mediana_moda.svg\n",
      "\tdeleted:    images/meme.jpg\n",
      "\tdeleted:    images/ml_map.png\n",
      "\tdeleted:    images/ml_statistics.png\n",
      "\tdeleted:    images/mlops.png\n",
      "\tdeleted:    images/modelosML.jpg\n",
      "\tdeleted:    images/momentum.gif\n",
      "\tdeleted:    images/opt1.gif\n",
      "\tdeleted:    images/opt2.gif\n",
      "\tdeleted:    images/pandas-df.svg\n",
      "\tdeleted:    images/pandas-io.svg\n",
      "\tdeleted:    images/paradoxopinoquio.png\n",
      "\tdeleted:    images/pdp.png\n",
      "\tdeleted:    images/pencil.jpg\n",
      "\tdeleted:    images/pneumonia.png\n",
      "\tdeleted:    images/pythonSuperaJava.jpg\n",
      "\tdeleted:    images/python_1.jpg\n",
      "\tdeleted:    images/pythoninstalado.jpeg\n",
      "\tdeleted:    images/qualidadeDados.jpg\n",
      "\tdeleted:    images/quantis-normal.png\n",
      "\tdeleted:    images/raw.githubusercontent.comCMU-Perceptual-Computing-Labopenpos.gif\n",
      "\tdeleted:    images/redes_neurais.jpeg\n",
      "\tdeleted:    images/reg-linear.png\n",
      "\tdeleted:    images/regressaolinearsimples.png\n",
      "\tdeleted:    images/relu.png\n",
      "\tdeleted:    images/renda-media-mediana.png\n",
      "\tdeleted:    images/reuniaoInicialMIA.PNG\n",
      "\tdeleted:    images/row-vs-cols_1.png\n",
      "\tdeleted:    images/row-vs-cols_2.png\n",
      "\tdeleted:    images/salvando_figura.png\n",
      "\tdeleted:    images/semantix.gif\n",
      "\tdeleted:    images/sigmoid.png\n",
      "\tdeleted:    images/sistema-linear.png\n",
      "\tdeleted:    images/sklearn.png\n",
      "\tdeleted:    images/support-vector-machines.png\n",
      "\tdeleted:    images/tabuada.png\n",
      "\tdeleted:    images/tanh.png\n",
      "\tdeleted:    images/tipos_tecnicasML.png\n",
      "\tdeleted:    images/titanic.png\n",
      "\tdeleted:    images/top_10_ranking.png\n",
      "\tdeleted:    images/train-test.png\n",
      "\tdeleted:    images/train-vs-test-error.png\n",
      "\tdeleted:    images/trainin4.gif\n",
      "\tdeleted:    images/trainml.png\n",
      "\tdeleted:    images/trilha_2.png\n",
      "\tdeleted:    images/trilha_2.svg\n",
      "\tdeleted:    images/underfitting-overfitting-capacity.png\n",
      "\tdeleted:    images/workflowML.PNG\n",
      "\tdeleted:    iris.data\n",
      "\tdeleted:    logo_i2a2.svg\n",
      "\tdeleted:    m1_algebralinear.ipynb\n",
      "\tdeleted:    m1_estatistica.ipynb\n",
      "\tdeleted:    m1_probabilidade.ipynb\n",
      "\tdeleted:    m2_Jupyter.ipynb\n",
      "\tdeleted:    m2_prepdados_p1.ipynb\n",
      "\tdeleted:    m2_prepdados_p2.ipynb\n",
      "\tdeleted:    m2_python.ipynb\n",
      "\tdeleted:    m3_aprendnaosuper.ipynb\n",
      "\tdeleted:    m3_aprendsuper.ipynb\n",
      "\tdeleted:    m3_orange.ipynb\n",
      "\tdeleted:    m3_pythoninter.ipynb\n",
      "\tdeleted:    m4_classagrup.ipynb\n",
      "\tdeleted:    m4_reducdimensi.ipynb\n",
      "\tdeleted:    m4_regressao.ipynb\n",
      "\tdeleted:    m5_dl1.ipynb\n",
      "\tdeleted:    m5_dl2.ipynb\n",
      "\tdeleted:    m5_redesneurais.ipynb\n",
      "\tdeleted:    m6_aprendreforco.ipynb\n",
      "\tdeleted:    m6_nlp.ipynb\n",
      "\tdeleted:    m6_seriestemporais.ipynb\n",
      "\tdeleted:    m6_visao.ipynb\n",
      "\tdeleted:    markmap.html\n",
      "\tdeleted:    pdp.html\n",
      "\tdeleted:    readcounts.xlsx\n",
      "\tdeleted:    titanic-data.csv\n",
      "\tdeleted:    winequality-red.csv\n",
      "\n",
      "Changes not staged for commit:\n",
      "  (use \"git add <file>...\" to update what will be committed)\n",
      "  (use \"git restore <file>...\" to discard changes in working directory)\n",
      "\tmodified:   Desafio_4.ipynb\n",
      "\n",
      "Untracked files:\n",
      "  (use \"git add <file>...\" to include in what will be committed)\n",
      "\t.ipynb_checkpoints/\n",
      "\tanalise-projeto/\n",
      "\tdatabase_metro.csv\n",
      "\n"
     ]
    }
   ],
   "source": [
    "!git status"
   ]
  },
  {
   "cell_type": "code",
   "execution_count": null,
   "id": "e713b0a5",
   "metadata": {},
   "outputs": [],
   "source": []
  }
 ],
 "metadata": {
  "kernelspec": {
   "display_name": "Python 3 (ipykernel)",
   "language": "python",
   "name": "python3"
  },
  "language_info": {
   "codemirror_mode": {
    "name": "ipython",
    "version": 3
   },
   "file_extension": ".py",
   "mimetype": "text/x-python",
   "name": "python",
   "nbconvert_exporter": "python",
   "pygments_lexer": "ipython3",
   "version": "3.9.12"
  }
 },
 "nbformat": 4,
 "nbformat_minor": 5
}
