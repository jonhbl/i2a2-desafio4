{
 "cells": [
  {
   "cell_type": "markdown",
   "id": "b5699dff",
   "metadata": {},
   "source": [
    "<center><img src=\"images/Logo_I2A2.webp\", width=250></center>  "
   ]
  },
  {
   "cell_type": "markdown",
   "id": "46f682a7",
   "metadata": {},
   "source": [
    "# Desafio 4"
   ]
  },
  {
   "cell_type": "markdown",
   "id": "86579c58",
   "metadata": {},
   "source": [
    "### Estamos em 2012!  \n",
    "\n",
    "Você deve construir um **modelo preditivo de previsão da demanda de passageiros** de uma linha de Metrô, visto que, desde 2005, a demanda vem crescendo constantemente e a alta direção da empresa necessita de subsidios para a tomada de decisão do momento de investimento de forma a aumentar a capacidade operacional da linha que hoje é de cerca de 72 mil passageiros/hora sentido."
   ]
  },
  {
   "cell_type": "markdown",
   "id": "5878707d",
   "metadata": {},
   "source": [
    "<center><img src=\"images/DemandaMetro.png\", width=900></center>  "
   ]
  },
  {
   "cell_type": "markdown",
   "id": "7ecb7e51",
   "metadata": {},
   "source": [
    "O modelo deve possuir como variáveis preditoras indicadores econômicos que possuam projeções que possam ser encontradas facilmente na mídia especializada.     \n",
    "O arquivo [DemandaMetro.xlsx](https://github.com/vsvasconcelos/i2a2/blob/main/DemandaMetro.xlsx) possui as totalizações mensais de entrada de passageiros, bem como as respectivas médias em dias úteis (DU)."
   ]
  },
  {
   "cell_type": "code",
   "execution_count": 8,
   "id": "985ab318",
   "metadata": {},
   "outputs": [],
   "source": [
    "import pandas as pd\n",
    "dados = pd.read_excel('DemandaMetro.xlsx')  "
   ]
  },
  {
   "cell_type": "code",
   "execution_count": 10,
   "id": "5f2d180b",
   "metadata": {},
   "outputs": [
    {
     "data": {
      "text/html": [
       "<div>\n",
       "<style scoped>\n",
       "    .dataframe tbody tr th:only-of-type {\n",
       "        vertical-align: middle;\n",
       "    }\n",
       "\n",
       "    .dataframe tbody tr th {\n",
       "        vertical-align: top;\n",
       "    }\n",
       "\n",
       "    .dataframe thead th {\n",
       "        text-align: right;\n",
       "    }\n",
       "</style>\n",
       "<table border=\"1\" class=\"dataframe\">\n",
       "  <thead>\n",
       "    <tr style=\"text-align: right;\">\n",
       "      <th></th>\n",
       "      <th>DEMANDA HISTÓRICA DO METRO</th>\n",
       "      <th>Unnamed: 1</th>\n",
       "      <th>Unnamed: 2</th>\n",
       "    </tr>\n",
       "  </thead>\n",
       "  <tbody>\n",
       "    <tr>\n",
       "      <th>0</th>\n",
       "      <td>Linha xx</td>\n",
       "      <td>NaN</td>\n",
       "      <td>NaN</td>\n",
       "    </tr>\n",
       "    <tr>\n",
       "      <th>1</th>\n",
       "      <td>Mês/Ano</td>\n",
       "      <td>Entradas</td>\n",
       "      <td>NaN</td>\n",
       "    </tr>\n",
       "    <tr>\n",
       "      <th>2</th>\n",
       "      <td>NaN</td>\n",
       "      <td>TOTAL</td>\n",
       "      <td>MÉDIA DU</td>\n",
       "    </tr>\n",
       "    <tr>\n",
       "      <th>3</th>\n",
       "      <td>1989-01-01 00:00:00</td>\n",
       "      <td>17582640</td>\n",
       "      <td>685614</td>\n",
       "    </tr>\n",
       "    <tr>\n",
       "      <th>4</th>\n",
       "      <td>1989-02-01 00:00:00</td>\n",
       "      <td>16054636</td>\n",
       "      <td>724491</td>\n",
       "    </tr>\n",
       "    <tr>\n",
       "      <th>5</th>\n",
       "      <td>1989-03-01 00:00:00</td>\n",
       "      <td>19435854</td>\n",
       "      <td>770336</td>\n",
       "    </tr>\n",
       "    <tr>\n",
       "      <th>6</th>\n",
       "      <td>1989-04-01 00:00:00</td>\n",
       "      <td>19288983</td>\n",
       "      <td>786977</td>\n",
       "    </tr>\n",
       "    <tr>\n",
       "      <th>7</th>\n",
       "      <td>1989-05-01 00:00:00</td>\n",
       "      <td>20399772</td>\n",
       "      <td>800986</td>\n",
       "    </tr>\n",
       "    <tr>\n",
       "      <th>8</th>\n",
       "      <td>1989-06-01 00:00:00</td>\n",
       "      <td>20543714</td>\n",
       "      <td>785930</td>\n",
       "    </tr>\n",
       "    <tr>\n",
       "      <th>9</th>\n",
       "      <td>1989-07-01 00:00:00</td>\n",
       "      <td>19491708</td>\n",
       "      <td>747304</td>\n",
       "    </tr>\n",
       "    <tr>\n",
       "      <th>10</th>\n",
       "      <td>1989-08-01 00:00:00</td>\n",
       "      <td>21369032</td>\n",
       "      <td>788212</td>\n",
       "    </tr>\n",
       "    <tr>\n",
       "      <th>11</th>\n",
       "      <td>1989-09-01 00:00:00</td>\n",
       "      <td>19771308</td>\n",
       "      <td>799492</td>\n",
       "    </tr>\n",
       "    <tr>\n",
       "      <th>12</th>\n",
       "      <td>1989-10-01 00:00:00</td>\n",
       "      <td>20823461</td>\n",
       "      <td>806657</td>\n",
       "    </tr>\n",
       "    <tr>\n",
       "      <th>13</th>\n",
       "      <td>1989-11-01 00:00:00</td>\n",
       "      <td>19918533</td>\n",
       "      <td>809471</td>\n",
       "    </tr>\n",
       "    <tr>\n",
       "      <th>14</th>\n",
       "      <td>1989-12-01 00:00:00</td>\n",
       "      <td>20586638</td>\n",
       "      <td>799565</td>\n",
       "    </tr>\n",
       "    <tr>\n",
       "      <th>15</th>\n",
       "      <td>1989</td>\n",
       "      <td>235266279</td>\n",
       "      <td>775419.583333</td>\n",
       "    </tr>\n",
       "    <tr>\n",
       "      <th>16</th>\n",
       "      <td>1990-01-01 00:00:00</td>\n",
       "      <td>19377253</td>\n",
       "      <td>755748</td>\n",
       "    </tr>\n",
       "    <tr>\n",
       "      <th>17</th>\n",
       "      <td>1990-02-01 00:00:00</td>\n",
       "      <td>17246090</td>\n",
       "      <td>770900</td>\n",
       "    </tr>\n",
       "    <tr>\n",
       "      <th>18</th>\n",
       "      <td>1990-03-01 00:00:00</td>\n",
       "      <td>20356364</td>\n",
       "      <td>766543</td>\n",
       "    </tr>\n",
       "    <tr>\n",
       "      <th>19</th>\n",
       "      <td>1990-04-01 00:00:00</td>\n",
       "      <td>18358689</td>\n",
       "      <td>765524</td>\n",
       "    </tr>\n",
       "  </tbody>\n",
       "</table>\n",
       "</div>"
      ],
      "text/plain": [
       "   DEMANDA HISTÓRICA DO METRO Unnamed: 1     Unnamed: 2\n",
       "0                    Linha xx        NaN            NaN\n",
       "1                     Mês/Ano   Entradas            NaN\n",
       "2                         NaN      TOTAL       MÉDIA DU\n",
       "3         1989-01-01 00:00:00   17582640         685614\n",
       "4         1989-02-01 00:00:00   16054636         724491\n",
       "5         1989-03-01 00:00:00   19435854         770336\n",
       "6         1989-04-01 00:00:00   19288983         786977\n",
       "7         1989-05-01 00:00:00   20399772         800986\n",
       "8         1989-06-01 00:00:00   20543714         785930\n",
       "9         1989-07-01 00:00:00   19491708         747304\n",
       "10        1989-08-01 00:00:00   21369032         788212\n",
       "11        1989-09-01 00:00:00   19771308         799492\n",
       "12        1989-10-01 00:00:00   20823461         806657\n",
       "13        1989-11-01 00:00:00   19918533         809471\n",
       "14        1989-12-01 00:00:00   20586638         799565\n",
       "15                       1989  235266279  775419.583333\n",
       "16        1990-01-01 00:00:00   19377253         755748\n",
       "17        1990-02-01 00:00:00   17246090         770900\n",
       "18        1990-03-01 00:00:00   20356364         766543\n",
       "19        1990-04-01 00:00:00   18358689         765524"
      ]
     },
     "execution_count": 10,
     "metadata": {},
     "output_type": "execute_result"
    }
   ],
   "source": [
    "dados.head(20)"
   ]
  },
  {
   "cell_type": "markdown",
   "id": "f796f5f0",
   "metadata": {},
   "source": [
    "Após a proposição do modelo, realize a previsão de demanda de passageiros até **2022**."
   ]
  }
 ],
 "metadata": {
  "kernelspec": {
   "display_name": "Python 3 (ipykernel)",
   "language": "python",
   "name": "python3"
  },
  "language_info": {
   "codemirror_mode": {
    "name": "ipython",
    "version": 3
   },
   "file_extension": ".py",
   "mimetype": "text/x-python",
   "name": "python",
   "nbconvert_exporter": "python",
   "pygments_lexer": "ipython3",
   "version": "3.9.12"
  }
 },
 "nbformat": 4,
 "nbformat_minor": 5
}
