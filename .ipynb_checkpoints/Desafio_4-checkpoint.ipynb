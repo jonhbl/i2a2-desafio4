{
 "cells": [
  {
   "cell_type": "markdown",
   "metadata": {},
   "source": [
    "<center><img src=\"images/Logo_I2A2.webp\", width=250></center>  "
   ]
  },
  {
   "cell_type": "markdown",
   "metadata": {},
   "source": [
    "# Desafio 4"
   ]
  },
  {
   "cell_type": "markdown",
   "metadata": {},
   "source": [
    "### Estamos em 2012!  \n",
    "\n",
    "Você deve construir um **modelo preditivo de previsão da demanda de passageiros** de uma linha de Metrô, visto que, desde 2005, a demanda vem crescendo constantemente e a alta direção da empresa necessita de subsidios para a tomada de decisão do momento de investimento de forma a aumentar a capacidade operacional da linha que hoje é de cerca de 72 mil passageiros/hora sentido."
   ]
  },
  {
   "cell_type": "markdown",
   "metadata": {},
   "source": [
    "<center><img src=\"images/DemandaMetro.png\", width=900></center>  "
   ]
  },
  {
   "cell_type": "markdown",
   "metadata": {},
   "source": [
    "O modelo deve possuir como variáveis preditoras indicadores econômicos que possuam projeções que possam ser encontradas facilmente na mídia especializada.     \n",
    "O arquivo [DemandaMetro.xlsx](https://github.com/vsvasconcelos/i2a2/blob/main/DemandaMetro.xlsx) possui as totalizações mensais de entrada de passageiros, bem como as respectivas médias em dias úteis (DU)."
   ]
  },
  {
   "cell_type": "markdown",
   "metadata": {},
   "source": [
    "### Pacotes"
   ]
  },
  {
   "cell_type": "code",
   "execution_count": 107,
   "metadata": {},
   "outputs": [],
   "source": [
    "import pandas as pd\n",
    "import numpy as np\n",
    "import matplotlib.pyplot as plt\n",
    "from functools import reduce"
   ]
  },
  {
   "cell_type": "markdown",
   "metadata": {},
   "source": [
    "### Entrega: 28/07/2022 (Quinta)"
   ]
  },
  {
   "cell_type": "code",
   "execution_count": 240,
   "metadata": {},
   "outputs": [],
   "source": [
    "dados = pd.read_excel('DemandaMetro.xlsx')[3:]\n",
    "dados.columns = ['Data', 'Total', 'Média (DU)']\n",
    "dados.reset_index(drop=True, inplace=True)"
   ]
  },
  {
   "cell_type": "code",
   "execution_count": 241,
   "metadata": {},
   "outputs": [],
   "source": [
    "indexes_anos = np.arange(12, len(dados), 13)"
   ]
  },
  {
   "cell_type": "code",
   "execution_count": 242,
   "metadata": {},
   "outputs": [],
   "source": [
    "dados_anuais = dados.iloc[indexes_anos]\n",
    "dados_anuais.reset_index(drop=True, inplace=True)\n",
    "dados = dados.drop(indexes_anos).reset_index(drop=True)\n",
    "dados.dropna(inplace=True)\n",
    "dados = dados.astype({'Média (DU)': 'int32'})"
   ]
  },
  {
   "cell_type": "code",
   "execution_count": 243,
   "metadata": {},
   "outputs": [],
   "source": [
    "dados['Data'] =  pd.to_datetime(dados['Data'], format='%yyyy-%mm-%dd %HH:%mm:%ss')"
   ]
  },
  {
   "cell_type": "code",
   "execution_count": 244,
   "metadata": {},
   "outputs": [
    {
     "data": {
      "text/html": [
       "<div>\n",
       "<style scoped>\n",
       "    .dataframe tbody tr th:only-of-type {\n",
       "        vertical-align: middle;\n",
       "    }\n",
       "\n",
       "    .dataframe tbody tr th {\n",
       "        vertical-align: top;\n",
       "    }\n",
       "\n",
       "    .dataframe thead th {\n",
       "        text-align: right;\n",
       "    }\n",
       "</style>\n",
       "<table border=\"1\" class=\"dataframe\">\n",
       "  <thead>\n",
       "    <tr style=\"text-align: right;\">\n",
       "      <th></th>\n",
       "      <th>Data</th>\n",
       "      <th>Total</th>\n",
       "      <th>Média (DU)</th>\n",
       "    </tr>\n",
       "  </thead>\n",
       "  <tbody>\n",
       "    <tr>\n",
       "      <th>0</th>\n",
       "      <td>1989</td>\n",
       "      <td>235266279</td>\n",
       "      <td>775420</td>\n",
       "    </tr>\n",
       "    <tr>\n",
       "      <th>1</th>\n",
       "      <td>1990</td>\n",
       "      <td>233591270</td>\n",
       "      <td>778267</td>\n",
       "    </tr>\n",
       "    <tr>\n",
       "      <th>2</th>\n",
       "      <td>1991</td>\n",
       "      <td>239535443</td>\n",
       "      <td>800848</td>\n",
       "    </tr>\n",
       "    <tr>\n",
       "      <th>3</th>\n",
       "      <td>1992</td>\n",
       "      <td>221281279</td>\n",
       "      <td>745112</td>\n",
       "    </tr>\n",
       "    <tr>\n",
       "      <th>4</th>\n",
       "      <td>1993</td>\n",
       "      <td>210627855</td>\n",
       "      <td>714562</td>\n",
       "    </tr>\n",
       "  </tbody>\n",
       "</table>\n",
       "</div>"
      ],
      "text/plain": [
       "   Data      Total Média (DU)\n",
       "0  1989  235266279     775420\n",
       "1  1990  233591270     778267\n",
       "2  1991  239535443     800848\n",
       "3  1992  221281279     745112\n",
       "4  1993  210627855     714562"
      ]
     },
     "execution_count": 244,
     "metadata": {},
     "output_type": "execute_result"
    }
   ],
   "source": [
    "dados_anuais.head(5)"
   ]
  },
  {
   "cell_type": "code",
   "execution_count": 245,
   "metadata": {
    "scrolled": false
   },
   "outputs": [
    {
     "data": {
      "text/html": [
       "<div>\n",
       "<style scoped>\n",
       "    .dataframe tbody tr th:only-of-type {\n",
       "        vertical-align: middle;\n",
       "    }\n",
       "\n",
       "    .dataframe tbody tr th {\n",
       "        vertical-align: top;\n",
       "    }\n",
       "\n",
       "    .dataframe thead th {\n",
       "        text-align: right;\n",
       "    }\n",
       "</style>\n",
       "<table border=\"1\" class=\"dataframe\">\n",
       "  <thead>\n",
       "    <tr style=\"text-align: right;\">\n",
       "      <th></th>\n",
       "      <th>Data</th>\n",
       "      <th>Total</th>\n",
       "      <th>Média (DU)</th>\n",
       "    </tr>\n",
       "  </thead>\n",
       "  <tbody>\n",
       "    <tr>\n",
       "      <th>0</th>\n",
       "      <td>1989-01-01</td>\n",
       "      <td>17582640</td>\n",
       "      <td>685614</td>\n",
       "    </tr>\n",
       "    <tr>\n",
       "      <th>1</th>\n",
       "      <td>1989-02-01</td>\n",
       "      <td>16054636</td>\n",
       "      <td>724491</td>\n",
       "    </tr>\n",
       "    <tr>\n",
       "      <th>2</th>\n",
       "      <td>1989-03-01</td>\n",
       "      <td>19435854</td>\n",
       "      <td>770336</td>\n",
       "    </tr>\n",
       "    <tr>\n",
       "      <th>3</th>\n",
       "      <td>1989-04-01</td>\n",
       "      <td>19288983</td>\n",
       "      <td>786977</td>\n",
       "    </tr>\n",
       "    <tr>\n",
       "      <th>4</th>\n",
       "      <td>1989-05-01</td>\n",
       "      <td>20399772</td>\n",
       "      <td>800986</td>\n",
       "    </tr>\n",
       "    <tr>\n",
       "      <th>5</th>\n",
       "      <td>1989-06-01</td>\n",
       "      <td>20543714</td>\n",
       "      <td>785930</td>\n",
       "    </tr>\n",
       "    <tr>\n",
       "      <th>6</th>\n",
       "      <td>1989-07-01</td>\n",
       "      <td>19491708</td>\n",
       "      <td>747304</td>\n",
       "    </tr>\n",
       "    <tr>\n",
       "      <th>7</th>\n",
       "      <td>1989-08-01</td>\n",
       "      <td>21369032</td>\n",
       "      <td>788212</td>\n",
       "    </tr>\n",
       "    <tr>\n",
       "      <th>8</th>\n",
       "      <td>1989-09-01</td>\n",
       "      <td>19771308</td>\n",
       "      <td>799492</td>\n",
       "    </tr>\n",
       "    <tr>\n",
       "      <th>9</th>\n",
       "      <td>1989-10-01</td>\n",
       "      <td>20823461</td>\n",
       "      <td>806657</td>\n",
       "    </tr>\n",
       "  </tbody>\n",
       "</table>\n",
       "</div>"
      ],
      "text/plain": [
       "        Data     Total  Média (DU)\n",
       "0 1989-01-01  17582640      685614\n",
       "1 1989-02-01  16054636      724491\n",
       "2 1989-03-01  19435854      770336\n",
       "3 1989-04-01  19288983      786977\n",
       "4 1989-05-01  20399772      800986\n",
       "5 1989-06-01  20543714      785930\n",
       "6 1989-07-01  19491708      747304\n",
       "7 1989-08-01  21369032      788212\n",
       "8 1989-09-01  19771308      799492\n",
       "9 1989-10-01  20823461      806657"
      ]
     },
     "execution_count": 245,
     "metadata": {},
     "output_type": "execute_result"
    }
   ],
   "source": [
    "dados.head(10)"
   ]
  },
  {
   "cell_type": "markdown",
   "metadata": {},
   "source": [
    "Após a proposição do modelo, realize a previsão de demanda de passageiros até **2022**."
   ]
  },
  {
   "cell_type": "markdown",
   "metadata": {},
   "source": [
    "### Análise dos dados"
   ]
  },
  {
   "cell_type": "code",
   "execution_count": 9,
   "metadata": {},
   "outputs": [
    {
     "name": "stdout",
     "output_type": "stream",
     "text": [
      "Conjunto de dados:\n",
      " Linhas:300\n",
      " Colunas:3\n"
     ]
    }
   ],
   "source": [
    "print(f'Conjunto de dados:\\n Linhas:{dados.shape[0]}\\n Colunas:{dados.shape[1]}')"
   ]
  },
  {
   "cell_type": "code",
   "execution_count": 10,
   "metadata": {},
   "outputs": [],
   "source": [
    "x = dados['Data']\n",
    "y = dados['Total']"
   ]
  },
  {
   "cell_type": "code",
   "execution_count": 11,
   "metadata": {},
   "outputs": [],
   "source": [
    "import matplotlib.dates as mdates"
   ]
  },
  {
   "cell_type": "code",
   "execution_count": 12,
   "metadata": {
    "scrolled": false
   },
   "outputs": [
    {
     "data": {
      "image/png": "[encoded data removed]",
      "text/plain": [
       "<Figure size 1152x432 with 1 Axes>"
      ]
     },
     "metadata": {
      "needs_background": "light"
     },
     "output_type": "display_data"
    }
   ],
   "source": [
    "plt.figure(figsize=(16,6))\n",
    "plt.plot(x, y)\n",
    "plt.grid()\n",
    "ax = plt.gca()\n",
    "ax.xaxis.set_major_locator(mdates.YearLocator(1))\n",
    "ax.xaxis.set_major_formatter(mdates.DateFormatter('%Y'))\n",
    "plt.show()"
   ]
  },
  {
   "cell_type": "markdown",
   "metadata": {},
   "source": [
    "### GASOLINA"
   ]
  },
  {
   "cell_type": "code",
   "execution_count": 126,
   "metadata": {},
   "outputs": [],
   "source": [
    "gasolina = pd.read_excel('mensal-estados-2001-a-2012.xlsx')\n",
    "gasolina.columns = gasolina.iloc[11].values\n",
    "gasolina = gasolina[12:].reset_index(drop=True)"
   ]
  },
  {
   "cell_type": "code",
   "execution_count": 127,
   "metadata": {},
   "outputs": [],
   "source": [
    "gasolina_2 = pd.read_excel('mensal-estados-desde-jan2013.xlsx')\n",
    "gasolina_2.columns = gasolina.columns\n",
    "gasolina_2 = gasolina_2[16:].reset_index(drop=True)"
   ]
  },
  {
   "cell_type": "code",
   "execution_count": 128,
   "metadata": {},
   "outputs": [],
   "source": [
    "gasolina_3 = pd.read_excel('mensal-estados-1999-a-2001.xlsx').sort_values(by='MÊS')"
   ]
  },
  {
   "cell_type": "code",
   "execution_count": 129,
   "metadata": {
    "scrolled": false
   },
   "outputs": [],
   "source": [
    "gasolina = gasolina[(gasolina['PRODUTO']=='GASOLINA COMUM') & (gasolina['ESTADO']=='SAO PAULO')][['MÊS', 'PRECO MÉDIO REVENDA']].reset_index(drop=True)\n",
    "gasolina_2 = gasolina_2[(gasolina_2['PRODUTO']=='GASOLINA COMUM') & (gasolina_2['ESTADO']=='SAO PAULO')][['MÊS','PRECO MÉDIO REVENDA']].reset_index(drop=True)"
   ]
  },
  {
   "cell_type": "code",
   "execution_count": 130,
   "metadata": {},
   "outputs": [],
   "source": [
    "gasolina = pd.concat([gasolina_3, gasolina, gasolina_2],axis=0).reset_index(drop=True)\n",
    "gasolina.columns = ['Data', 'Gasolina']"
   ]
  },
  {
   "cell_type": "code",
   "execution_count": 131,
   "metadata": {},
   "outputs": [],
   "source": [
    "gasolina['Data'] = pd.to_datetime(gasolina['Data'], format='%yyyy-%mm-%dd %HH:%mm:%ss')"
   ]
  },
  {
   "cell_type": "code",
   "execution_count": 219,
   "metadata": {},
   "outputs": [],
   "source": [
    "gasolina = gasolina.astype({'Gasolina': 'float64'})"
   ]
  },
  {
   "cell_type": "code",
   "execution_count": 133,
   "metadata": {},
   "outputs": [
    {
     "data": {
      "image/png": "[encoded data removed]",
      "text/plain": [
       "<Figure size 1152x432 with 1 Axes>"
      ]
     },
     "metadata": {
      "needs_background": "light"
     },
     "output_type": "display_data"
    }
   ],
   "source": [
    "plt.figure(figsize=(16,6))\n",
    "plt.plot(gasolina['Data'], gasolina['Gasolina'])\n",
    "plt.grid()\n",
    "ax = plt.gca()\n",
    "ax.xaxis.set_major_locator(mdates.YearLocator(1))\n",
    "ax.xaxis.set_major_formatter(mdates.DateFormatter('%Y'))\n",
    "plt.show()"
   ]
  },
  {
   "cell_type": "markdown",
   "metadata": {},
   "source": [
    "### SALÁRIO MÍNIMO"
   ]
  },
  {
   "cell_type": "code",
   "execution_count": 134,
   "metadata": {},
   "outputs": [],
   "source": [
    "salario = pd.read_excel('salario.xlsx')"
   ]
  },
  {
   "cell_type": "code",
   "execution_count": 135,
   "metadata": {},
   "outputs": [
    {
     "data": {
      "text/plain": [
       "Timestamp('1994-03-01 00:00:00')"
      ]
     },
     "execution_count": 135,
     "metadata": {},
     "output_type": "execute_result"
    }
   ],
   "source": [
    "salario['Data'].iloc[0]"
   ]
  },
  {
   "cell_type": "code",
   "execution_count": 136,
   "metadata": {},
   "outputs": [],
   "source": [
    "date_range = pd.date_range(salario['Data'].iloc[0], salario['Data'].iloc[-1],freq='MS')"
   ]
  },
  {
   "cell_type": "code",
   "execution_count": 137,
   "metadata": {},
   "outputs": [],
   "source": [
    "salario = pd.merge(pd.DataFrame(date_range, columns=['Data']), salario,how='left').fillna(method='ffill')"
   ]
  },
  {
   "cell_type": "code",
   "execution_count": 138,
   "metadata": {},
   "outputs": [
    {
     "data": {
      "text/html": [
       "<div>\n",
       "<style scoped>\n",
       "    .dataframe tbody tr th:only-of-type {\n",
       "        vertical-align: middle;\n",
       "    }\n",
       "\n",
       "    .dataframe tbody tr th {\n",
       "        vertical-align: top;\n",
       "    }\n",
       "\n",
       "    .dataframe thead th {\n",
       "        text-align: right;\n",
       "    }\n",
       "</style>\n",
       "<table border=\"1\" class=\"dataframe\">\n",
       "  <thead>\n",
       "    <tr style=\"text-align: right;\">\n",
       "      <th></th>\n",
       "      <th>Data</th>\n",
       "      <th>Salario</th>\n",
       "    </tr>\n",
       "  </thead>\n",
       "  <tbody>\n",
       "    <tr>\n",
       "      <th>0</th>\n",
       "      <td>1994-03-01</td>\n",
       "      <td>64.79</td>\n",
       "    </tr>\n",
       "    <tr>\n",
       "      <th>1</th>\n",
       "      <td>1994-04-01</td>\n",
       "      <td>64.79</td>\n",
       "    </tr>\n",
       "    <tr>\n",
       "      <th>2</th>\n",
       "      <td>1994-05-01</td>\n",
       "      <td>64.79</td>\n",
       "    </tr>\n",
       "    <tr>\n",
       "      <th>3</th>\n",
       "      <td>1994-06-01</td>\n",
       "      <td>64.79</td>\n",
       "    </tr>\n",
       "    <tr>\n",
       "      <th>4</th>\n",
       "      <td>1994-07-01</td>\n",
       "      <td>64.79</td>\n",
       "    </tr>\n",
       "    <tr>\n",
       "      <th>...</th>\n",
       "      <td>...</td>\n",
       "      <td>...</td>\n",
       "    </tr>\n",
       "    <tr>\n",
       "      <th>330</th>\n",
       "      <td>2021-09-01</td>\n",
       "      <td>1100.00</td>\n",
       "    </tr>\n",
       "    <tr>\n",
       "      <th>331</th>\n",
       "      <td>2021-10-01</td>\n",
       "      <td>1100.00</td>\n",
       "    </tr>\n",
       "    <tr>\n",
       "      <th>332</th>\n",
       "      <td>2021-11-01</td>\n",
       "      <td>1100.00</td>\n",
       "    </tr>\n",
       "    <tr>\n",
       "      <th>333</th>\n",
       "      <td>2021-12-01</td>\n",
       "      <td>1100.00</td>\n",
       "    </tr>\n",
       "    <tr>\n",
       "      <th>334</th>\n",
       "      <td>2022-01-01</td>\n",
       "      <td>1212.00</td>\n",
       "    </tr>\n",
       "  </tbody>\n",
       "</table>\n",
       "<p>335 rows × 2 columns</p>\n",
       "</div>"
      ],
      "text/plain": [
       "          Data  Salario\n",
       "0   1994-03-01    64.79\n",
       "1   1994-04-01    64.79\n",
       "2   1994-05-01    64.79\n",
       "3   1994-06-01    64.79\n",
       "4   1994-07-01    64.79\n",
       "..         ...      ...\n",
       "330 2021-09-01  1100.00\n",
       "331 2021-10-01  1100.00\n",
       "332 2021-11-01  1100.00\n",
       "333 2021-12-01  1100.00\n",
       "334 2022-01-01  1212.00\n",
       "\n",
       "[335 rows x 2 columns]"
      ]
     },
     "execution_count": 138,
     "metadata": {},
     "output_type": "execute_result"
    }
   ],
   "source": [
    "salario"
   ]
  },
  {
   "cell_type": "code",
   "execution_count": 139,
   "metadata": {},
   "outputs": [
    {
     "data": {
      "image/png": "[encoded data removed]",
      "text/plain": [
       "<Figure size 1152x432 with 1 Axes>"
      ]
     },
     "metadata": {
      "needs_background": "light"
     },
     "output_type": "display_data"
    }
   ],
   "source": [
    "plt.figure(figsize=(16,6))\n",
    "plt.plot(salario['Data'], salario['Salario'])\n",
    "plt.grid()\n",
    "ax = plt.gca()\n",
    "ax.xaxis.set_major_locator(mdates.YearLocator(1))\n",
    "ax.xaxis.set_major_formatter(mdates.DateFormatter('%Y'))\n",
    "plt.show()"
   ]
  },
  {
   "cell_type": "markdown",
   "metadata": {},
   "source": [
    "### POPULAÇÃO"
   ]
  },
  {
   "cell_type": "code",
   "execution_count": 140,
   "metadata": {},
   "outputs": [],
   "source": [
    "pop = pd.read_excel('populacao.xlsx')"
   ]
  },
  {
   "cell_type": "code",
   "execution_count": 141,
   "metadata": {},
   "outputs": [],
   "source": [
    "date_range_pop = pd.date_range(pop['Data'].iloc[0], pop['Data'].iloc[-1],freq='MS')"
   ]
  },
  {
   "cell_type": "code",
   "execution_count": 142,
   "metadata": {},
   "outputs": [],
   "source": [
    "pop = pd.merge(pd.DataFrame(date_range_pop, columns=['Data']), pop ,how='left').interpolate()"
   ]
  },
  {
   "cell_type": "code",
   "execution_count": 143,
   "metadata": {},
   "outputs": [
    {
     "data": {
      "image/png": "[encoded data removed]",
      "text/plain": [
       "<Figure size 1152x432 with 1 Axes>"
      ]
     },
     "metadata": {
      "needs_background": "light"
     },
     "output_type": "display_data"
    }
   ],
   "source": [
    "plt.figure(figsize=(16,6))\n",
    "plt.plot(pop['Data'], pop['População'])\n",
    "plt.grid()\n",
    "ax = plt.gca()\n",
    "ax.xaxis.set_major_locator(mdates.YearLocator(2))\n",
    "ax.xaxis.set_major_formatter(mdates.DateFormatter('%Y'))\n",
    "plt.show()"
   ]
  },
  {
   "cell_type": "markdown",
   "metadata": {},
   "source": [
    "### IPCA"
   ]
  },
  {
   "cell_type": "code",
   "execution_count": 144,
   "metadata": {},
   "outputs": [],
   "source": [
    "ipca = pd.read_excel('ipca.xlsx')"
   ]
  },
  {
   "cell_type": "code",
   "execution_count": 145,
   "metadata": {},
   "outputs": [
    {
     "data": {
      "image/png": "[encoded data removed]",
      "text/plain": [
       "<Figure size 1152x432 with 1 Axes>"
      ]
     },
     "metadata": {
      "needs_background": "light"
     },
     "output_type": "display_data"
    }
   ],
   "source": [
    "plt.figure(figsize=(16,6))\n",
    "plt.plot(ipca['Data'], ipca['IPCA'])\n",
    "plt.grid()\n",
    "ax = plt.gca()\n",
    "ax.xaxis.set_major_locator(mdates.YearLocator(2))\n",
    "ax.xaxis.set_major_formatter(mdates.DateFormatter('%Y'))\n",
    "plt.show()"
   ]
  },
  {
   "cell_type": "markdown",
   "metadata": {},
   "source": [
    "### IPC"
   ]
  },
  {
   "cell_type": "code",
   "execution_count": 146,
   "metadata": {},
   "outputs": [],
   "source": [
    "ipc = pd.read_excel('ipc_fipe.xlsx')"
   ]
  },
  {
   "cell_type": "code",
   "execution_count": 147,
   "metadata": {},
   "outputs": [
    {
     "data": {
      "image/png": "[encoded data removed]",
      "text/plain": [
       "<Figure size 1152x432 with 1 Axes>"
      ]
     },
     "metadata": {
      "needs_background": "light"
     },
     "output_type": "display_data"
    }
   ],
   "source": [
    "plt.figure(figsize=(16,6))\n",
    "plt.plot(ipc['Data'], ipc['Transp.'])\n",
    "plt.grid()\n",
    "ax = plt.gca()\n",
    "ax.xaxis.set_major_locator(mdates.YearLocator(2))\n",
    "ax.xaxis.set_major_formatter(mdates.DateFormatter('%Y'))\n",
    "plt.show()"
   ]
  },
  {
   "cell_type": "markdown",
   "metadata": {},
   "source": [
    "### DADOS"
   ]
  },
  {
   "cell_type": "code",
   "execution_count": 633,
   "metadata": {},
   "outputs": [],
   "source": [
    "data = [dados,pop,salario,gasolina]"
   ]
  },
  {
   "cell_type": "code",
   "execution_count": 634,
   "metadata": {},
   "outputs": [],
   "source": [
    "df_info = reduce(lambda  left,right: pd.merge(left,right,on=['Data'], how='inner'), data)[:-4]"
   ]
  },
  {
   "cell_type": "code",
   "execution_count": 635,
   "metadata": {},
   "outputs": [
    {
     "data": {
      "text/html": [
       "<div>\n",
       "<style scoped>\n",
       "    .dataframe tbody tr th:only-of-type {\n",
       "        vertical-align: middle;\n",
       "    }\n",
       "\n",
       "    .dataframe tbody tr th {\n",
       "        vertical-align: top;\n",
       "    }\n",
       "\n",
       "    .dataframe thead th {\n",
       "        text-align: right;\n",
       "    }\n",
       "</style>\n",
       "<table border=\"1\" class=\"dataframe\">\n",
       "  <thead>\n",
       "    <tr style=\"text-align: right;\">\n",
       "      <th></th>\n",
       "      <th>Data</th>\n",
       "      <th>Total</th>\n",
       "      <th>Média (DU)</th>\n",
       "      <th>População</th>\n",
       "      <th>Salario</th>\n",
       "      <th>Gasolina</th>\n",
       "    </tr>\n",
       "  </thead>\n",
       "  <tbody>\n",
       "    <tr>\n",
       "      <th>0</th>\n",
       "      <td>1999-01-01</td>\n",
       "      <td>16242448</td>\n",
       "      <td>690451</td>\n",
       "      <td>1.034669e+07</td>\n",
       "      <td>130.0</td>\n",
       "      <td>0.774</td>\n",
       "    </tr>\n",
       "    <tr>\n",
       "      <th>1</th>\n",
       "      <td>1999-02-01</td>\n",
       "      <td>16005081</td>\n",
       "      <td>743784</td>\n",
       "      <td>1.035399e+07</td>\n",
       "      <td>130.0</td>\n",
       "      <td>0.799</td>\n",
       "    </tr>\n",
       "    <tr>\n",
       "      <th>2</th>\n",
       "      <td>1999-03-01</td>\n",
       "      <td>19667878</td>\n",
       "      <td>747305</td>\n",
       "      <td>1.036128e+07</td>\n",
       "      <td>130.0</td>\n",
       "      <td>0.836</td>\n",
       "    </tr>\n",
       "    <tr>\n",
       "      <th>3</th>\n",
       "      <td>1999-04-01</td>\n",
       "      <td>17734153</td>\n",
       "      <td>759204</td>\n",
       "      <td>1.036858e+07</td>\n",
       "      <td>130.0</td>\n",
       "      <td>0.872</td>\n",
       "    </tr>\n",
       "    <tr>\n",
       "      <th>4</th>\n",
       "      <td>1999-05-01</td>\n",
       "      <td>18726244</td>\n",
       "      <td>746609</td>\n",
       "      <td>1.037588e+07</td>\n",
       "      <td>136.0</td>\n",
       "      <td>0.907</td>\n",
       "    </tr>\n",
       "    <tr>\n",
       "      <th>...</th>\n",
       "      <td>...</td>\n",
       "      <td>...</td>\n",
       "      <td>...</td>\n",
       "      <td>...</td>\n",
       "      <td>...</td>\n",
       "      <td>...</td>\n",
       "    </tr>\n",
       "    <tr>\n",
       "      <th>167</th>\n",
       "      <td>2012-12-01</td>\n",
       "      <td>27587374</td>\n",
       "      <td>1153512</td>\n",
       "      <td>1.144068e+07</td>\n",
       "      <td>622.0</td>\n",
       "      <td>2.638</td>\n",
       "    </tr>\n",
       "    <tr>\n",
       "      <th>168</th>\n",
       "      <td>2013-01-01</td>\n",
       "      <td>27182332</td>\n",
       "      <td>1071293</td>\n",
       "      <td>1.144628e+07</td>\n",
       "      <td>678.0</td>\n",
       "      <td>2.644</td>\n",
       "    </tr>\n",
       "    <tr>\n",
       "      <th>169</th>\n",
       "      <td>2013-02-01</td>\n",
       "      <td>25949694</td>\n",
       "      <td>1180194</td>\n",
       "      <td>1.145191e+07</td>\n",
       "      <td>678.0</td>\n",
       "      <td>2.767</td>\n",
       "    </tr>\n",
       "    <tr>\n",
       "      <th>170</th>\n",
       "      <td>2013-03-01</td>\n",
       "      <td>30211955</td>\n",
       "      <td>1218245</td>\n",
       "      <td>1.145754e+07</td>\n",
       "      <td>678.0</td>\n",
       "      <td>2.773</td>\n",
       "    </tr>\n",
       "    <tr>\n",
       "      <th>171</th>\n",
       "      <td>2013-04-01</td>\n",
       "      <td>31177428</td>\n",
       "      <td>1216605</td>\n",
       "      <td>1.146317e+07</td>\n",
       "      <td>678.0</td>\n",
       "      <td>2.768</td>\n",
       "    </tr>\n",
       "  </tbody>\n",
       "</table>\n",
       "<p>172 rows × 6 columns</p>\n",
       "</div>"
      ],
      "text/plain": [
       "          Data     Total  Média (DU)     População  Salario  Gasolina\n",
       "0   1999-01-01  16242448      690451  1.034669e+07    130.0     0.774\n",
       "1   1999-02-01  16005081      743784  1.035399e+07    130.0     0.799\n",
       "2   1999-03-01  19667878      747305  1.036128e+07    130.0     0.836\n",
       "3   1999-04-01  17734153      759204  1.036858e+07    130.0     0.872\n",
       "4   1999-05-01  18726244      746609  1.037588e+07    136.0     0.907\n",
       "..         ...       ...         ...           ...      ...       ...\n",
       "167 2012-12-01  27587374     1153512  1.144068e+07    622.0     2.638\n",
       "168 2013-01-01  27182332     1071293  1.144628e+07    678.0     2.644\n",
       "169 2013-02-01  25949694     1180194  1.145191e+07    678.0     2.767\n",
       "170 2013-03-01  30211955     1218245  1.145754e+07    678.0     2.773\n",
       "171 2013-04-01  31177428     1216605  1.146317e+07    678.0     2.768\n",
       "\n",
       "[172 rows x 6 columns]"
      ]
     },
     "execution_count": 635,
     "metadata": {},
     "output_type": "execute_result"
    }
   ],
   "source": [
    "df_info"
   ]
  },
  {
   "cell_type": "code",
   "execution_count": 657,
   "metadata": {},
   "outputs": [],
   "source": [
    "data_predict = [pop,salario,gasolina]"
   ]
  },
  {
   "cell_type": "code",
   "execution_count": 658,
   "metadata": {},
   "outputs": [],
   "source": [
    "df_predict = reduce(lambda  left,right: pd.merge(left,right,on=['Data'], how='inner'), dfs)\n",
    "df_predict = df_predict[df_predict['Data']>df_info['Data'].iloc[-1]]"
   ]
  },
  {
   "cell_type": "code",
   "execution_count": 660,
   "metadata": {},
   "outputs": [
    {
     "data": {
      "text/html": [
       "<div>\n",
       "<style scoped>\n",
       "    .dataframe tbody tr th:only-of-type {\n",
       "        vertical-align: middle;\n",
       "    }\n",
       "\n",
       "    .dataframe tbody tr th {\n",
       "        vertical-align: top;\n",
       "    }\n",
       "\n",
       "    .dataframe thead th {\n",
       "        text-align: right;\n",
       "    }\n",
       "</style>\n",
       "<table border=\"1\" class=\"dataframe\">\n",
       "  <thead>\n",
       "    <tr style=\"text-align: right;\">\n",
       "      <th></th>\n",
       "      <th>Data</th>\n",
       "      <th>População</th>\n",
       "      <th>Salario</th>\n",
       "      <th>Gasolina</th>\n",
       "    </tr>\n",
       "  </thead>\n",
       "  <tbody>\n",
       "    <tr>\n",
       "      <th>172</th>\n",
       "      <td>2013-05-01</td>\n",
       "      <td>1.146880e+07</td>\n",
       "      <td>678.0</td>\n",
       "      <td>2.752</td>\n",
       "    </tr>\n",
       "    <tr>\n",
       "      <th>173</th>\n",
       "      <td>2013-06-01</td>\n",
       "      <td>1.147443e+07</td>\n",
       "      <td>678.0</td>\n",
       "      <td>2.726</td>\n",
       "    </tr>\n",
       "    <tr>\n",
       "      <th>174</th>\n",
       "      <td>2013-07-01</td>\n",
       "      <td>1.148006e+07</td>\n",
       "      <td>678.0</td>\n",
       "      <td>2.715</td>\n",
       "    </tr>\n",
       "    <tr>\n",
       "      <th>175</th>\n",
       "      <td>2013-08-01</td>\n",
       "      <td>1.148569e+07</td>\n",
       "      <td>678.0</td>\n",
       "      <td>2.705</td>\n",
       "    </tr>\n",
       "    <tr>\n",
       "      <th>176</th>\n",
       "      <td>2013-09-01</td>\n",
       "      <td>1.149132e+07</td>\n",
       "      <td>678.0</td>\n",
       "      <td>2.708</td>\n",
       "    </tr>\n",
       "    <tr>\n",
       "      <th>...</th>\n",
       "      <td>...</td>\n",
       "      <td>...</td>\n",
       "      <td>...</td>\n",
       "      <td>...</td>\n",
       "    </tr>\n",
       "    <tr>\n",
       "      <th>271</th>\n",
       "      <td>2021-09-01</td>\n",
       "      <td>1.245704e+07</td>\n",
       "      <td>1100.0</td>\n",
       "      <td>5.755</td>\n",
       "    </tr>\n",
       "    <tr>\n",
       "      <th>272</th>\n",
       "      <td>2021-10-01</td>\n",
       "      <td>1.246365e+07</td>\n",
       "      <td>1100.0</td>\n",
       "      <td>5.999</td>\n",
       "    </tr>\n",
       "    <tr>\n",
       "      <th>273</th>\n",
       "      <td>2021-11-01</td>\n",
       "      <td>1.247027e+07</td>\n",
       "      <td>1100.0</td>\n",
       "      <td>6.397</td>\n",
       "    </tr>\n",
       "    <tr>\n",
       "      <th>274</th>\n",
       "      <td>2021-12-01</td>\n",
       "      <td>1.247688e+07</td>\n",
       "      <td>1100.0</td>\n",
       "      <td>6.349</td>\n",
       "    </tr>\n",
       "    <tr>\n",
       "      <th>275</th>\n",
       "      <td>2022-01-01</td>\n",
       "      <td>1.248350e+07</td>\n",
       "      <td>1212.0</td>\n",
       "      <td>6.354</td>\n",
       "    </tr>\n",
       "  </tbody>\n",
       "</table>\n",
       "<p>104 rows × 4 columns</p>\n",
       "</div>"
      ],
      "text/plain": [
       "          Data     População  Salario  Gasolina\n",
       "172 2013-05-01  1.146880e+07    678.0     2.752\n",
       "173 2013-06-01  1.147443e+07    678.0     2.726\n",
       "174 2013-07-01  1.148006e+07    678.0     2.715\n",
       "175 2013-08-01  1.148569e+07    678.0     2.705\n",
       "176 2013-09-01  1.149132e+07    678.0     2.708\n",
       "..         ...           ...      ...       ...\n",
       "271 2021-09-01  1.245704e+07   1100.0     5.755\n",
       "272 2021-10-01  1.246365e+07   1100.0     5.999\n",
       "273 2021-11-01  1.247027e+07   1100.0     6.397\n",
       "274 2021-12-01  1.247688e+07   1100.0     6.349\n",
       "275 2022-01-01  1.248350e+07   1212.0     6.354\n",
       "\n",
       "[104 rows x 4 columns]"
      ]
     },
     "execution_count": 660,
     "metadata": {},
     "output_type": "execute_result"
    }
   ],
   "source": [
    "df_predict"
   ]
  },
  {
   "cell_type": "code",
   "execution_count": 666,
   "metadata": {},
   "outputs": [],
   "source": [
    "from sklearn.tree import DecisionTreeRegressor\n",
    "from xgboost import XGBRegressor"
   ]
  },
  {
   "cell_type": "code",
   "execution_count": 643,
   "metadata": {},
   "outputs": [],
   "source": [
    "X = df_info.drop(['Data','Total','Média (DU)'], axis=1)\n",
    "y = df_info['Total']"
   ]
  },
  {
   "cell_type": "code",
   "execution_count": 644,
   "metadata": {},
   "outputs": [],
   "source": [
    "tam = int((2/3)*len(X))"
   ]
  },
  {
   "cell_type": "code",
   "execution_count": 650,
   "metadata": {},
   "outputs": [],
   "source": [
    "X_train = X[:tam]\n",
    "X_test = X[tam:]\n",
    "y_train = y[:tam]\n",
    "y_test = y[tam:]"
   ]
  },
  {
   "cell_type": "code",
   "execution_count": 670,
   "metadata": {},
   "outputs": [],
   "source": [
    "reg = DecisionTreeRegressor(max_depth=30)\n",
    "xgb = XGBRegressor(objective='reg:squarederror', n_estimators=1000)"
   ]
  },
  {
   "cell_type": "code",
   "execution_count": 671,
   "metadata": {},
   "outputs": [
    {
     "data": {
      "text/plain": [
       "DecisionTreeRegressor(max_depth=30)"
      ]
     },
     "execution_count": 671,
     "metadata": {},
     "output_type": "execute_result"
    }
   ],
   "source": [
    "reg.fit(X_train, y_train)"
   ]
  },
  {
   "cell_type": "code",
   "execution_count": 672,
   "metadata": {},
   "outputs": [
    {
     "data": {
      "text/plain": [
       "XGBRegressor(base_score=0.5, booster='gbtree', callbacks=None,\n",
       "             colsample_bylevel=1, colsample_bynode=1, colsample_bytree=1,\n",
       "             early_stopping_rounds=None, enable_categorical=False,\n",
       "             eval_metric=None, gamma=0, gpu_id=-1, grow_policy='depthwise',\n",
       "             importance_type=None, interaction_constraints='',\n",
       "             learning_rate=0.300000012, max_bin=256, max_cat_to_onehot=4,\n",
       "             max_delta_step=0, max_depth=6, max_leaves=0, min_child_weight=1,\n",
       "             missing=nan, monotone_constraints='()', n_estimators=1000,\n",
       "             n_jobs=0, num_parallel_tree=1, predictor='auto', random_state=0,\n",
       "             reg_alpha=0, reg_lambda=1, ...)"
      ]
     },
     "execution_count": 672,
     "metadata": {},
     "output_type": "execute_result"
    }
   ],
   "source": [
    "xgb.fit(X_train, y_train)"
   ]
  },
  {
   "cell_type": "code",
   "execution_count": 673,
   "metadata": {},
   "outputs": [],
   "source": [
    "y_pred_dtr = reg.predict(df_predict.drop('Data', axis=1))\n",
    "y_pred_xgb = xgb.predict(df_predict.drop('Data', axis=1))"
   ]
  },
  {
   "cell_type": "code",
   "execution_count": 675,
   "metadata": {},
   "outputs": [
    {
     "data": {
      "image/png": "[encoded data removed]",
      "text/plain": [
       "<Figure size 1152x432 with 1 Axes>"
      ]
     },
     "metadata": {
      "needs_background": "light"
     },
     "output_type": "display_data"
    }
   ],
   "source": [
    "plt.figure(figsize=(16,6))\n",
    "plt.plot(df_predict['Data'], y_pred_xgb)\n",
    "plt.grid()\n",
    "ax = plt.gca()\n",
    "ax.xaxis.set_major_locator(mdates.YearLocator(2))\n",
    "ax.xaxis.set_major_formatter(mdates.DateFormatter('%Y'))\n",
    "plt.show()"
   ]
  }
 ],
 "metadata": {
  "kernelspec": {
   "display_name": "Python 3",
   "language": "python",
   "name": "python3"
  },
  "language_info": {
   "codemirror_mode": {
    "name": "ipython",
    "version": 3
   },
   "file_extension": ".py",
   "mimetype": "text/x-python",
   "name": "python",
   "nbconvert_exporter": "python",
   "pygments_lexer": "ipython3",
   "version": "3.8.5"
  }
 },
 "nbformat": 4,
 "nbformat_minor": 5
}
